{
 "cells": [
  {
   "cell_type": "markdown",
   "metadata": {},
   "source": [
    "[Markdown Cheetsheet](https://github.com/adam-p/markdown-here/wiki/Markdown-Cheatsheet)\n",
    "\n",
    "**Algorithm**\n",
    "A finite, deterministic, and effective problem solving methods.\n"
   ]
  },
  {
   "cell_type": "code",
   "execution_count": 12,
   "metadata": {
    "collapsed": false
   },
   "outputs": [],
   "source": [
    "# Find the greatest common divisor of two numbers.\n",
    "# Euclid's Algorithm\n",
    "def gcd(p, q):\n",
    "    if q == 0:\n",
    "        return p\n",
    "    r = p % q\n",
    "    return gcd(q, r)"
   ]
  },
  {
   "cell_type": "code",
   "execution_count": 13,
   "metadata": {
    "collapsed": false
   },
   "outputs": [
    {
     "name": "stdout",
     "output_type": "stream",
     "text": [
      "Greatest common divisor of 54 and 24 is 6\n"
     ]
    }
   ],
   "source": [
    "# Test\n",
    "print('Greatest common divisor of {} and {} is {}'.format(54, 24, gcd(54, 24)))"
   ]
  },
  {
   "cell_type": "code",
   "execution_count": 15,
   "metadata": {
    "collapsed": false
   },
   "outputs": [
    {
     "name": "stdout",
     "output_type": "stream",
     "text": [
      "Max number is 10 at 4\n"
     ]
    }
   ],
   "source": [
    "# 找出数组中最大的元素\n",
    "def maxnum(m_list):\n",
    "    m_max = m_list[0]\n",
    "    m_max_index = 0\n",
    "    for i, num in enumerate(m_list):\n",
    "        if num > m_max:\n",
    "            m_max = num\n",
    "            m_max_index = i\n",
    "    return m_max, m_max_index\n",
    "\n",
    "# test\n",
    "m = [1, 5, 7, 3, 10, -1]\n",
    "m_max, m_max_index = maxnum(m)\n",
    "print('Max number is {} at {}'.format(m_max, m_max_index))"
   ]
  },
  {
   "cell_type": "code",
   "execution_count": 24,
   "metadata": {
    "collapsed": false
   },
   "outputs": [
    {
     "name": "stdout",
     "output_type": "stream",
     "text": [
      "Mean is 4.4\n"
     ]
    }
   ],
   "source": [
    "# 计算数组元素的平均值\n",
    "def meannum(m_list):\n",
    "    num = len(m_list)\n",
    "    sum = 0\n",
    "    for value in m_list:\n",
    "        sum += value\n",
    "    average = float(sum) / num\n",
    "    return average\n",
    "\n",
    "# Test\n",
    "l = [1, 2, 3, 5, 11]\n",
    "print(\"Mean is {}\".format(meannum(l)))"
   ]
  },
  {
   "cell_type": "code",
   "execution_count": 26,
   "metadata": {
    "collapsed": false
   },
   "outputs": [
    {
     "name": "stdout",
     "output_type": "stream",
     "text": [
      "Reversed list is [11, 5, 3, 2, 1]\n",
      "Reversed list is [12, 11, 5, 3, 2, 1]\n"
     ]
    }
   ],
   "source": [
    "# 颠倒一个sequence中的元素顺序\n",
    "from math import floor\n",
    "def reverse(m_list):\n",
    "    m_length = len(m_list)\n",
    "    for i in range(floor(m_length / 2)):\n",
    "        temp = m_list[i]\n",
    "        m_list[i] = m_list[m_length - i - 1]\n",
    "        m_list[m_length - i - 1] = temp\n",
    "    return m_list\n",
    "\n",
    "# Test\n",
    "l = [1, 2, 3, 5, 11]\n",
    "print(\"Reversed list is {}\".format(reverse(l)))\n",
    "l = [1, 2, 3, 5, 11, 12]\n",
    "print(\"Reversed list is {}\".format(reverse(l)))\n"
   ]
  },
  {
   "cell_type": "code",
   "execution_count": 32,
   "metadata": {
    "collapsed": false
   },
   "outputs": [
    {
     "data": {
      "text/plain": [
       "[[0, 0], [0, 0]]"
      ]
     },
     "execution_count": 32,
     "metadata": {},
     "output_type": "execute_result"
    }
   ],
   "source": [
    "c = [[0]*2 for i in range(2)]\n",
    "c"
   ]
  },
  {
   "cell_type": "code",
   "execution_count": 40,
   "metadata": {
    "collapsed": false
   },
   "outputs": [
    {
     "name": "stdout",
     "output_type": "stream",
     "text": [
      "Matrix production is [[9, 8], [16, 13]]\n"
     ]
    }
   ],
   "source": [
    "# 矩阵相乘\n",
    "def matrixprod(m1, m2):\n",
    "    c = [[0]*len(m2[:]) for row in m1]\n",
    "    for i, row in enumerate(m1):\n",
    "        m_sum = 0\n",
    "        for j, col in enumerate(m2[:]):\n",
    "            c[i][j] = 0\n",
    "            for k in range(len(row)):\n",
    "                c[i][j] += row[k] * col[k]\n",
    "    return c\n",
    "# Test\n",
    "l1 = [[1,2], [2,3]]\n",
    "l2 = [[5,2],[2,3]]\n",
    "print(\"Matrix production is {}\".format(matrixprod(l1, l2)))"
   ]
  },
  {
   "cell_type": "markdown",
   "metadata": {},
   "source": [
    "### 递归代码最重要的三点\n",
    "* 递归总有一个最简单的情况——方法的第一条语句总是一个包含return的条件语句。\n",
    "* 递归调用总是去尝试解决一个规模更小的子问题。\n",
    "* 递归调用的父问题和尝试解决的子问题之间不应该由交集。"
   ]
  },
  {
   "cell_type": "markdown",
   "metadata": {},
   "source": [
    "## Reference: Python List\n",
    "Artical: [An Introduction to Python List](http://effbot.org/zone/python-list.htm)\n",
    "\n",
    "### Creating List\n",
    "\n",
    "#### Create with list display\n",
    "```python\n",
    "L1 = []\n",
    "L2 = [expression, ...]\n",
    "L3 = [expression for variable in sequence]\n",
    "```\n",
    "\n",
    "#### Use list type object\n",
    "```python\n",
    "L4 = list() # empty list\n",
    "L5 = list(sequence)\n",
    "L6 = list(expression for variable in sequence)\n",
    "```\n",
    "\n",
    "#### Note: list reference\n",
    "```python\n",
    "A = B = [] # both names will point to the same list\n",
    "\n",
    "A = []\n",
    "B = A # both names will point to the same list\n",
    "\n",
    "A = []; B = [] # independent lists\n",
    "```\n",
    "\n",
    "### Accessing List\n",
    "```python\n",
    "n = len(L)\n",
    "item = L[index]\n",
    "seq = L[start:stop]\n",
    "L[-1] # 相当于L[len(L) + (-1)], L[-1]可用于获取L的最后一个元素\n",
    "seq = L[start:stop:step]\n",
    "seq = L[::2] # get every other item, starting with the first\n",
    "seq = L[1::2] # get every other item, starting with the second\n",
    "```\n",
    "\n",
    "#### Loop Over List\n",
    "```python\n",
    "for item in L:\n",
    "    print item\n",
    "\n",
    "for index, item in enumerate(L):\n",
    "    print index, item\n",
    "\n",
    "for index in range(len(L)):\n",
    "    print index\n",
    "    \n",
    "out = map(function, L)\n",
    "out = [function(object) for object in L]\n",
    "```\n",
    "\n",
    "#### Shortcuts\n",
    "```python\n",
    "v = sum(L)\n",
    "total = sum(L, subtotal)\n",
    "average = float(sum(L)) / len(L)\n",
    "s = ''.join(L) # 当L包含一系列字符串\n",
    "```\n",
    "\n",
    "### Modifying Lists\n",
    "```python\n",
    "L[i] = obj\n",
    "L[i:j] = sequence\n",
    "\n",
    "# M, L指向同一个list\n",
    "L = []\n",
    "M = L\n",
    "\n",
    "# modify both lists\n",
    "L.append(obj)\n",
    "\n",
    "# M, L指向不同list\n",
    "L = []\n",
    "M = L[:] # create a copy\n",
    "\n",
    "# modify L only\n",
    "L.append(obj)\n",
    "\n",
    "L.append(item) # add a single item at the end of the list\n",
    "L.extend(sequence) # add several items at the end of the list\n",
    "L.insert(index, item) # add a single item at a specific position\n",
    "L[index:index] = sequence # add several items at a specific position\n",
    "\n",
    "# remove item/s from list\n",
    "del L[i]\n",
    "del L[i:j]\n",
    "item = L.pop() # last item\n",
    "item = L.pop(0) # first item\n",
    "item = L.pop(index) \n",
    "L.remove(item) # searches for an item, and removes the first matching item from the list\n",
    "\n",
    "# reverse() 方法\n",
    "# reverse的执行速度非常快，所以当你需要增加/删除list开头的元素的时候，可以使用reverse来提高效率，如下：\n",
    "L.reverse()\n",
    "# append/insert/pop/delete at far end\n",
    "L.reverse()\n",
    "```"
   ]
  },
  {
   "cell_type": "code",
   "execution_count": null,
   "metadata": {
    "collapsed": true
   },
   "outputs": [],
   "source": []
  }
 ],
 "metadata": {
  "kernelspec": {
   "display_name": "Python 3",
   "language": "python",
   "name": "python3"
  },
  "language_info": {
   "codemirror_mode": {
    "name": "ipython",
    "version": 3
   },
   "file_extension": ".py",
   "mimetype": "text/x-python",
   "name": "python",
   "nbconvert_exporter": "python",
   "pygments_lexer": "ipython3",
   "version": "3.5.4"
  }
 },
 "nbformat": 4,
 "nbformat_minor": 1
}
